{
  "nbformat": 4,
  "nbformat_minor": 0,
  "metadata": {
    "colab": {
      "private_outputs": true,
      "provenance": []
    },
    "kernelspec": {
      "name": "python3",
      "display_name": "Python 3"
    },
    "language_info": {
      "name": "python"
    }
  },
  "cells": [
    {
      "cell_type": "code",
      "source": [
        "# importing the libraries\n",
        "import pandas as pd\n",
        "from sklearn.feature_extraction.text import TfidfVectorizer\n",
        "import re\n",
        "import string\n",
        "from sklearn.metrics import accuracy_score, confusion_matrix\n",
        "from sklearn.model_selection import train_test_split as tts"
      ],
      "metadata": {
        "id": "DJFf3gBMz9NL"
      },
      "execution_count": null,
      "outputs": []
    },
    {
      "cell_type": "code",
      "source": [
        "# importing the dataset\n",
        "data = pd.read_csv(\"/content/drive/MyDrive/dataset\")"
      ],
      "metadata": {
        "id": "JYSrN5gkz_HC"
      },
      "execution_count": null,
      "outputs": []
    },
    {
      "cell_type": "code",
      "source": [],
      "metadata": {
        "id": "_snECi7BDNB5"
      },
      "execution_count": null,
      "outputs": []
    },
    {
      "cell_type": "code",
      "source": [
        "# top values of the data-set\n",
        "data.head()"
      ],
      "metadata": {
        "id": "-7OFdC0g0Jvc"
      },
      "execution_count": null,
      "outputs": []
    },
    {
      "cell_type": "code",
      "source": [
        "# shape of the data\n",
        "data.shape"
      ],
      "metadata": {
        "id": "kcehLqqv0VV2"
      },
      "execution_count": null,
      "outputs": []
    },
    {
      "cell_type": "code",
      "source": [
        "# column names\n",
        "data.columns"
      ],
      "metadata": {
        "id": "ukpm9hwN0hgs"
      },
      "execution_count": null,
      "outputs": []
    },
    {
      "cell_type": "code",
      "source": [
        "# count of unique values in the column\n",
        "data['sentiment'].value_counts()"
      ],
      "metadata": {
        "id": "Ql-rUM8E0pZQ",
        "collapsed": true
      },
      "execution_count": null,
      "outputs": []
    },
    {
      "cell_type": "code",
      "source": [
        "# top 10 elements of the dataset\n",
        "data.head(10)"
      ],
      "metadata": {
        "id": "wHTupyug0vGD"
      },
      "execution_count": null,
      "outputs": []
    },
    {
      "cell_type": "code",
      "source": [
        "# data from the bottom\n",
        "data.tail(5)"
      ],
      "metadata": {
        "id": "4OF9n4Iy0_OG"
      },
      "execution_count": null,
      "outputs": []
    },
    {
      "cell_type": "code",
      "source": [
        "def clean_text1(text):\n",
        "    text=text.lower()\n",
        "    text=re.sub('\\[.*?\\]','',text)\n",
        "    text=re.sub('[%s]'%re.escape(string.punctuation),'',text)\n",
        "    text=re.sub('\\w*\\d\\w*','',text)\n",
        "    return text\n",
        "\n",
        "cleaned1=lambda x:clean_text1(x)"
      ],
      "metadata": {
        "id": "ufDZBIDA1GIC"
      },
      "execution_count": null,
      "outputs": []
    },
    {
      "cell_type": "code",
      "source": [
        "data['review']=pd.DataFrame(data.review.apply(cleaned1))"
      ],
      "metadata": {
        "id": "3J8Em9MD1Pgf"
      },
      "execution_count": null,
      "outputs": []
    },
    {
      "cell_type": "code",
      "source": [
        "data.head()"
      ],
      "metadata": {
        "collapsed": true,
        "id": "tCnw0Bm61V8h"
      },
      "execution_count": null,
      "outputs": []
    },
    {
      "cell_type": "code",
      "source": [
        "# second round of cleaning\n",
        "def clean_text2(text):\n",
        "    text=re.sub('[''\"\",,,]','',text)\n",
        "    text=re.sub('\\n','',text)\n",
        "    return text\n",
        "\n",
        "cleaned2=lambda x:clean_text2(x)\n"
      ],
      "metadata": {
        "id": "JhzzZ9R71fjg"
      },
      "execution_count": null,
      "outputs": []
    },
    {
      "cell_type": "code",
      "source": [
        "data['review']=pd.DataFrame(data.review.apply(cleaned2))\n",
        "data.head()"
      ],
      "metadata": {
        "id": "wSvhnG3j1sTl"
      },
      "execution_count": null,
      "outputs": []
    },
    {
      "cell_type": "code",
      "source": [
        "x = data.iloc[0:,0].values\n",
        "y = data.iloc[0:,1].values"
      ],
      "metadata": {
        "id": "X0Vkxw-D1yHn"
      },
      "execution_count": null,
      "outputs": []
    },
    {
      "cell_type": "code",
      "source": [
        "xtrain,xtest,ytrain,ytest = tts(x,y,test_size = 0.25,random_state = 225)"
      ],
      "metadata": {
        "id": "kcAil1D-17-i"
      },
      "execution_count": null,
      "outputs": []
    },
    {
      "cell_type": "code",
      "source": [
        "tf = TfidfVectorizer()\n",
        "from sklearn.pipeline import Pipeline\n"
      ],
      "metadata": {
        "id": "fALjRwxF2Aq2"
      },
      "execution_count": null,
      "outputs": []
    },
    {
      "cell_type": "code",
      "source": [
        "from sklearn.linear_model import LogisticRegression\n",
        "classifier=LogisticRegression()\n",
        "model=Pipeline([('vectorizer',tf),('classifier',classifier)])\n",
        "\n",
        "model.fit(xtrain,ytrain)\n"
      ],
      "metadata": {
        "id": "QLKbb4OI2Gnx"
      },
      "execution_count": null,
      "outputs": []
    },
    {
      "cell_type": "code",
      "source": [
        "ypred=model.predict(xtest)\n"
      ],
      "metadata": {
        "id": "iuN6xN-B2RjZ"
      },
      "execution_count": null,
      "outputs": []
    },
    {
      "cell_type": "code",
      "source": [
        "# model score\n",
        "accuracy_score(ypred,ytest)"
      ],
      "metadata": {
        "id": "W8l71HLA2bWi"
      },
      "execution_count": null,
      "outputs": []
    },
    {
      "cell_type": "code",
      "source": [
        "# confusion matrix\n",
        "A=confusion_matrix(ytest,ypred)\n",
        "print(A)\n"
      ],
      "metadata": {
        "id": "lODXxT_12fdx"
      },
      "execution_count": null,
      "outputs": []
    },
    {
      "cell_type": "code",
      "source": [
        "# f1 score\n",
        "recall=A[0][0]/(A[0][0]+A[1][0])\n",
        "precision=A[0][0]/(A[0][0]+A[0][1])\n",
        "F1=2*recall*precision/(recall+precision)\n",
        "print(F1)"
      ],
      "metadata": {
        "id": "_VkmVyIL2nA1"
      },
      "execution_count": null,
      "outputs": []
    }
  ]
}